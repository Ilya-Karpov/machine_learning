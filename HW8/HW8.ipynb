{
 "cells": [
  {
   "cell_type": "markdown",
   "id": "75800c3c",
   "metadata": {},
   "source": [
    "Импортируем необходимые библиотеки и датасет."
   ]
  },
  {
   "cell_type": "code",
   "execution_count": 14,
   "id": "9b73c9e6",
   "metadata": {},
   "outputs": [],
   "source": [
    "import pandas as pd\n",
    "#import numpy as np\n",
    "#import seaborn as sns\n",
    "\n",
    "from sklearn.model_selection import train_test_split\n",
    "from sklearn.linear_model import LinearRegression\n",
    "from sklearn.tree import DecisionTreeRegressor"
   ]
  },
  {
   "cell_type": "code",
   "execution_count": 2,
   "id": "cb3ee046",
   "metadata": {},
   "outputs": [],
   "source": [
    "from sklearn.datasets import load_boston\n",
    "data = pd.read_csv(load_boston()['filename'], skiprows=1)"
   ]
  },
  {
   "cell_type": "markdown",
   "id": "c04f4417",
   "metadata": {},
   "source": [
    "С данными уже знакомы с предыдущего занятия."
   ]
  },
  {
   "cell_type": "code",
   "execution_count": 3,
   "id": "9ede3cc5",
   "metadata": {},
   "outputs": [
    {
     "data": {
      "text/html": [
       "<div>\n",
       "<style scoped>\n",
       "    .dataframe tbody tr th:only-of-type {\n",
       "        vertical-align: middle;\n",
       "    }\n",
       "\n",
       "    .dataframe tbody tr th {\n",
       "        vertical-align: top;\n",
       "    }\n",
       "\n",
       "    .dataframe thead th {\n",
       "        text-align: right;\n",
       "    }\n",
       "</style>\n",
       "<table border=\"1\" class=\"dataframe\">\n",
       "  <thead>\n",
       "    <tr style=\"text-align: right;\">\n",
       "      <th></th>\n",
       "      <th>CRIM</th>\n",
       "      <th>ZN</th>\n",
       "      <th>INDUS</th>\n",
       "      <th>CHAS</th>\n",
       "      <th>NOX</th>\n",
       "      <th>RM</th>\n",
       "      <th>AGE</th>\n",
       "      <th>DIS</th>\n",
       "      <th>RAD</th>\n",
       "      <th>TAX</th>\n",
       "      <th>PTRATIO</th>\n",
       "      <th>B</th>\n",
       "      <th>LSTAT</th>\n",
       "      <th>MEDV</th>\n",
       "    </tr>\n",
       "  </thead>\n",
       "  <tbody>\n",
       "    <tr>\n",
       "      <th>0</th>\n",
       "      <td>0.00632</td>\n",
       "      <td>18.0</td>\n",
       "      <td>2.31</td>\n",
       "      <td>0</td>\n",
       "      <td>0.538</td>\n",
       "      <td>6.575</td>\n",
       "      <td>65.2</td>\n",
       "      <td>4.0900</td>\n",
       "      <td>1</td>\n",
       "      <td>296</td>\n",
       "      <td>15.3</td>\n",
       "      <td>396.90</td>\n",
       "      <td>4.98</td>\n",
       "      <td>24.0</td>\n",
       "    </tr>\n",
       "    <tr>\n",
       "      <th>1</th>\n",
       "      <td>0.02731</td>\n",
       "      <td>0.0</td>\n",
       "      <td>7.07</td>\n",
       "      <td>0</td>\n",
       "      <td>0.469</td>\n",
       "      <td>6.421</td>\n",
       "      <td>78.9</td>\n",
       "      <td>4.9671</td>\n",
       "      <td>2</td>\n",
       "      <td>242</td>\n",
       "      <td>17.8</td>\n",
       "      <td>396.90</td>\n",
       "      <td>9.14</td>\n",
       "      <td>21.6</td>\n",
       "    </tr>\n",
       "    <tr>\n",
       "      <th>2</th>\n",
       "      <td>0.02729</td>\n",
       "      <td>0.0</td>\n",
       "      <td>7.07</td>\n",
       "      <td>0</td>\n",
       "      <td>0.469</td>\n",
       "      <td>7.185</td>\n",
       "      <td>61.1</td>\n",
       "      <td>4.9671</td>\n",
       "      <td>2</td>\n",
       "      <td>242</td>\n",
       "      <td>17.8</td>\n",
       "      <td>392.83</td>\n",
       "      <td>4.03</td>\n",
       "      <td>34.7</td>\n",
       "    </tr>\n",
       "    <tr>\n",
       "      <th>3</th>\n",
       "      <td>0.03237</td>\n",
       "      <td>0.0</td>\n",
       "      <td>2.18</td>\n",
       "      <td>0</td>\n",
       "      <td>0.458</td>\n",
       "      <td>6.998</td>\n",
       "      <td>45.8</td>\n",
       "      <td>6.0622</td>\n",
       "      <td>3</td>\n",
       "      <td>222</td>\n",
       "      <td>18.7</td>\n",
       "      <td>394.63</td>\n",
       "      <td>2.94</td>\n",
       "      <td>33.4</td>\n",
       "    </tr>\n",
       "    <tr>\n",
       "      <th>4</th>\n",
       "      <td>0.06905</td>\n",
       "      <td>0.0</td>\n",
       "      <td>2.18</td>\n",
       "      <td>0</td>\n",
       "      <td>0.458</td>\n",
       "      <td>7.147</td>\n",
       "      <td>54.2</td>\n",
       "      <td>6.0622</td>\n",
       "      <td>3</td>\n",
       "      <td>222</td>\n",
       "      <td>18.7</td>\n",
       "      <td>396.90</td>\n",
       "      <td>5.33</td>\n",
       "      <td>36.2</td>\n",
       "    </tr>\n",
       "  </tbody>\n",
       "</table>\n",
       "</div>"
      ],
      "text/plain": [
       "      CRIM    ZN  INDUS  CHAS    NOX     RM   AGE     DIS  RAD  TAX  PTRATIO  \\\n",
       "0  0.00632  18.0   2.31     0  0.538  6.575  65.2  4.0900    1  296     15.3   \n",
       "1  0.02731   0.0   7.07     0  0.469  6.421  78.9  4.9671    2  242     17.8   \n",
       "2  0.02729   0.0   7.07     0  0.469  7.185  61.1  4.9671    2  242     17.8   \n",
       "3  0.03237   0.0   2.18     0  0.458  6.998  45.8  6.0622    3  222     18.7   \n",
       "4  0.06905   0.0   2.18     0  0.458  7.147  54.2  6.0622    3  222     18.7   \n",
       "\n",
       "        B  LSTAT  MEDV  \n",
       "0  396.90   4.98  24.0  \n",
       "1  396.90   9.14  21.6  \n",
       "2  392.83   4.03  34.7  \n",
       "3  394.63   2.94  33.4  \n",
       "4  396.90   5.33  36.2  "
      ]
     },
     "execution_count": 3,
     "metadata": {},
     "output_type": "execute_result"
    }
   ],
   "source": [
    "data.head()"
   ]
  },
  {
   "cell_type": "markdown",
   "id": "89168f2f",
   "metadata": {},
   "source": [
    "Делим данные"
   ]
  },
  {
   "cell_type": "code",
   "execution_count": 21,
   "id": "3747f739",
   "metadata": {
    "scrolled": true
   },
   "outputs": [
    {
     "data": {
      "text/plain": [
       "Index(['CRIM', 'ZN', 'INDUS', 'CHAS', 'NOX', 'RM', 'AGE', 'DIS', 'RAD', 'TAX',\n",
       "       'PTRATIO', 'B', 'LSTAT', 'MEDV'],\n",
       "      dtype='object')"
      ]
     },
     "execution_count": 21,
     "metadata": {},
     "output_type": "execute_result"
    }
   ],
   "source": [
    "data.columns"
   ]
  },
  {
   "cell_type": "code",
   "execution_count": 5,
   "id": "144f3bee",
   "metadata": {},
   "outputs": [],
   "source": [
    "X = data[['CRIM', 'ZN', 'INDUS', 'CHAS', 'NOX', 'RM', 'AGE', 'DIS', 'RAD', 'TAX',\n",
    "       'PTRATIO', 'B', 'LSTAT']]"
   ]
  },
  {
   "cell_type": "code",
   "execution_count": 6,
   "id": "bc8d17b7",
   "metadata": {},
   "outputs": [],
   "source": [
    "y = data['MEDV']"
   ]
  },
  {
   "cell_type": "code",
   "execution_count": 9,
   "id": "71a37187",
   "metadata": {},
   "outputs": [],
   "source": [
    "X_train, X_test, y_train, y_test = train_test_split(X, y, test_size = 0.3, random_state = 42)"
   ]
  },
  {
   "cell_type": "markdown",
   "id": "a2ee6309",
   "metadata": {},
   "source": [
    "Строим модель дерева решений."
   ]
  },
  {
   "cell_type": "code",
   "execution_count": 62,
   "id": "3a76853d",
   "metadata": {},
   "outputs": [],
   "source": [
    "clf = DecisionTreeRegressor(max_depth=5, random_state = 42)\n",
    "\n",
    "clf.fit(X_train, y_train)\n",
    "predictions = clf.predict(X_test)"
   ]
  },
  {
   "cell_type": "code",
   "execution_count": 63,
   "id": "df037253",
   "metadata": {},
   "outputs": [
    {
     "data": {
      "text/plain": [
       "0.8507359013244257"
      ]
     },
     "execution_count": 63,
     "metadata": {},
     "output_type": "execute_result"
    }
   ],
   "source": [
    "clf.score(X_test,y_test)"
   ]
  },
  {
   "cell_type": "markdown",
   "id": "5fd1ef00",
   "metadata": {},
   "source": [
    "Построим модель линейной регрессии."
   ]
  },
  {
   "cell_type": "code",
   "execution_count": 60,
   "id": "fa207f1e",
   "metadata": {},
   "outputs": [
    {
     "data": {
      "text/plain": [
       "LinearRegression()"
      ]
     },
     "execution_count": 60,
     "metadata": {},
     "output_type": "execute_result"
    }
   ],
   "source": [
    "model = LinearRegression()\n",
    "model.fit(X_train, y_train)"
   ]
  },
  {
   "cell_type": "code",
   "execution_count": 61,
   "id": "a7400e8a",
   "metadata": {},
   "outputs": [
    {
     "data": {
      "text/plain": [
       "0.7112260057484903"
      ]
     },
     "execution_count": 61,
     "metadata": {},
     "output_type": "execute_result"
    }
   ],
   "source": [
    "model.score(X_test,y_test)"
   ]
  },
  {
   "cell_type": "markdown",
   "id": "6638d2eb",
   "metadata": {},
   "source": [
    "Как видим, точность модели дерева решений превосходит модель линейной регрессии.  \n",
    "Посмотрим, что можно получить изменив параметры."
   ]
  },
  {
   "cell_type": "code",
   "execution_count": 69,
   "id": "0909f571",
   "metadata": {},
   "outputs": [
    {
     "name": "stdout",
     "output_type": "stream",
     "text": [
      "0.4158767119483332\n",
      "0.6758436094969433\n",
      "0.7435711616336518\n",
      "0.7255536066517965\n",
      "0.8507359013244257\n",
      "0.860444206149952\n",
      "0.742271437213551\n",
      "0.8521798099098618\n",
      "0.8394007577899087\n",
      "0.8566444553340331\n",
      "0.7789535876638521\n",
      "0.8523871394649085\n",
      "0.7344761282236172\n",
      "0.7820130867889752\n",
      "0.8593731880046497\n",
      "0.7451120307948149\n",
      "0.8352086472557623\n",
      "0.8574800149929956\n",
      "0.8397535300967286\n",
      "0.8444833592340152\n"
     ]
    }
   ],
   "source": [
    "for i in range(20):\n",
    "    clf1 = DecisionTreeRegressor(max_depth = i+1, random_state = 42)\n",
    "    clf1.fit(X_train, y_train)\n",
    "    predictions = clf1.predict(X_test)\n",
    "    print(clf1.score(X_test,y_test))"
   ]
  },
  {
   "cell_type": "markdown",
   "id": "49f3580b",
   "metadata": {},
   "source": [
    "Как видим, максимальная точность получается при max_depth = 6"
   ]
  },
  {
   "cell_type": "code",
   "execution_count": 74,
   "id": "ce288aa5",
   "metadata": {},
   "outputs": [
    {
     "name": "stdout",
     "output_type": "stream",
     "text": [
      "0.8444833592340152\n",
      "0.7602092732031059\n",
      "0.7619315655378331\n",
      "0.855847210784213\n",
      "0.7811948004981432\n",
      "0.867105179272548\n",
      "0.784453941360067\n",
      "0.791467984083276\n",
      "0.8769677117166017\n",
      "0.8711794229398936\n",
      "0.8728983819849859\n",
      "0.8650201563392506\n",
      "0.8648028649670484\n",
      "0.8667166585002446\n",
      "0.8655668042923246\n",
      "0.7876863639911541\n",
      "0.7872578820654283\n",
      "0.7872578820654283\n"
     ]
    }
   ],
   "source": [
    "for i in range(2, 20):\n",
    "    clf1 = DecisionTreeRegressor(min_samples_split = i, random_state = 42)\n",
    "    clf1.fit(X_train, y_train)\n",
    "    predictions = clf1.predict(X_test)\n",
    "    print(clf1.score(X_test,y_test))"
   ]
  },
  {
   "cell_type": "markdown",
   "id": "f644281a",
   "metadata": {},
   "source": [
    "Максимальная точность получается при min_samples_split = 10"
   ]
  },
  {
   "cell_type": "code",
   "execution_count": 77,
   "id": "444662bd",
   "metadata": {},
   "outputs": [
    {
     "name": "stdout",
     "output_type": "stream",
     "text": [
      "0.8444833592340152\n",
      "0.8157339728539705\n",
      "0.8317806838943815\n",
      "0.8143668344211069\n",
      "0.7675322637146211\n",
      "0.7679302756789522\n",
      "0.7926569746010521\n",
      "0.7831942599039615\n",
      "0.7878999654957699\n",
      "0.7693921830832291\n",
      "0.775820731774332\n",
      "0.7427386673342621\n",
      "0.7475419053599012\n",
      "0.7469297316840472\n",
      "0.7430807063747571\n",
      "0.7453085800449282\n",
      "0.7547168930875502\n",
      "0.7504943138772335\n",
      "0.7496905118146853\n"
     ]
    }
   ],
   "source": [
    "for i in range(1, 20):\n",
    "    clf1 = DecisionTreeRegressor(min_samples_leaf = i, random_state = 42)\n",
    "    clf1.fit(X_train, y_train)\n",
    "    predictions = clf1.predict(X_test)\n",
    "    print(clf1.score(X_test,y_test))"
   ]
  },
  {
   "cell_type": "markdown",
   "id": "ab9c9cfc",
   "metadata": {},
   "source": [
    "Максимальная точность получается при min_samples_leaf = 1"
   ]
  },
  {
   "cell_type": "code",
   "execution_count": 92,
   "id": "24f7d919",
   "metadata": {},
   "outputs": [
    {
     "name": "stdout",
     "output_type": "stream",
     "text": [
      "0.4158767119483332\n",
      "0.6001427119101378\n",
      "0.6758436094969433\n",
      "0.7385976377284684\n",
      "0.7755171670372708\n",
      "0.780024077828503\n",
      "0.7784103674530607\n",
      "0.7804906909424543\n",
      "0.7831858746377853\n",
      "0.728604233861149\n",
      "0.7344742485014408\n",
      "0.7373013180618275\n",
      "0.7255536066517965\n",
      "0.7280089309434039\n",
      "0.7415760324581351\n",
      "0.740666115016249\n",
      "0.7448039439330418\n",
      "0.7507456059738855\n"
     ]
    }
   ],
   "source": [
    "for i in range(2, 20):\n",
    "    clf1 = DecisionTreeRegressor(max_leaf_nodes = i, random_state = 42)\n",
    "    clf1.fit(X_train, y_train)\n",
    "    predictions = clf1.predict(X_test)\n",
    "    print(clf1.score(X_test,y_test))"
   ]
  },
  {
   "cell_type": "markdown",
   "id": "10430c04",
   "metadata": {},
   "source": [
    "Максимальная точность получается при max_leaf_nodes = 10  \n",
    "Посмотрим, что получится если собрать все максимальные параметры в одном:"
   ]
  },
  {
   "cell_type": "code",
   "execution_count": 100,
   "id": "1cccd209",
   "metadata": {},
   "outputs": [
    {
     "data": {
      "text/plain": [
       "0.7259090501658181"
      ]
     },
     "execution_count": 100,
     "metadata": {},
     "output_type": "execute_result"
    }
   ],
   "source": [
    "clf2 = DecisionTreeRegressor(max_depth = 6, min_samples_split = 10, min_samples_leaf = 1, max_leaf_nodes = 10, random_state = 42)\n",
    "clf2.fit(X_train, y_train)\n",
    "predictions = clf2.predict(X_test)\n",
    "clf2.score(X_test,y_test)"
   ]
  },
  {
   "cell_type": "markdown",
   "id": "2ffa4abd",
   "metadata": {},
   "source": [
    "Вывод: каждый следующий параметр необходимо подбирать с учетом ранее подобранного :)"
   ]
  }
 ],
 "metadata": {
  "kernelspec": {
   "display_name": "Python 3",
   "language": "python",
   "name": "python3"
  },
  "language_info": {
   "codemirror_mode": {
    "name": "ipython",
    "version": 3
   },
   "file_extension": ".py",
   "mimetype": "text/x-python",
   "name": "python",
   "nbconvert_exporter": "python",
   "pygments_lexer": "ipython3",
   "version": "3.8.8"
  }
 },
 "nbformat": 4,
 "nbformat_minor": 5
}
