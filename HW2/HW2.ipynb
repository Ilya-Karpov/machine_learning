{
 "cells": [
  {
   "cell_type": "markdown",
   "id": "acf1698a",
   "metadata": {},
   "source": [
    "### Импортируем и преобразуем данные"
   ]
  },
  {
   "cell_type": "code",
   "execution_count": 1,
   "id": "ac4bb5b0",
   "metadata": {},
   "outputs": [],
   "source": [
    "import numpy as np\n",
    "import pandas as pd\n",
    "from sklearn.linear_model import LogisticRegression\n",
    "from sklearn.model_selection import train_test_split\n",
    "\n",
    "from sklearn import datasets"
   ]
  },
  {
   "cell_type": "code",
   "execution_count": 2,
   "id": "c62599b3",
   "metadata": {},
   "outputs": [],
   "source": [
    "iris = datasets.load_iris(as_frame = True).frame"
   ]
  },
  {
   "cell_type": "code",
   "execution_count": 3,
   "id": "a60490ea",
   "metadata": {},
   "outputs": [
    {
     "data": {
      "text/html": [
       "<div>\n",
       "<style scoped>\n",
       "    .dataframe tbody tr th:only-of-type {\n",
       "        vertical-align: middle;\n",
       "    }\n",
       "\n",
       "    .dataframe tbody tr th {\n",
       "        vertical-align: top;\n",
       "    }\n",
       "\n",
       "    .dataframe thead th {\n",
       "        text-align: right;\n",
       "    }\n",
       "</style>\n",
       "<table border=\"1\" class=\"dataframe\">\n",
       "  <thead>\n",
       "    <tr style=\"text-align: right;\">\n",
       "      <th></th>\n",
       "      <th>sepal length (cm)</th>\n",
       "      <th>sepal width (cm)</th>\n",
       "      <th>petal length (cm)</th>\n",
       "      <th>petal width (cm)</th>\n",
       "      <th>target</th>\n",
       "    </tr>\n",
       "  </thead>\n",
       "  <tbody>\n",
       "    <tr>\n",
       "      <th>50</th>\n",
       "      <td>7.0</td>\n",
       "      <td>3.2</td>\n",
       "      <td>4.7</td>\n",
       "      <td>1.4</td>\n",
       "      <td>1</td>\n",
       "    </tr>\n",
       "    <tr>\n",
       "      <th>51</th>\n",
       "      <td>6.4</td>\n",
       "      <td>3.2</td>\n",
       "      <td>4.5</td>\n",
       "      <td>1.5</td>\n",
       "      <td>1</td>\n",
       "    </tr>\n",
       "    <tr>\n",
       "      <th>52</th>\n",
       "      <td>6.9</td>\n",
       "      <td>3.1</td>\n",
       "      <td>4.9</td>\n",
       "      <td>1.5</td>\n",
       "      <td>1</td>\n",
       "    </tr>\n",
       "    <tr>\n",
       "      <th>53</th>\n",
       "      <td>5.5</td>\n",
       "      <td>2.3</td>\n",
       "      <td>4.0</td>\n",
       "      <td>1.3</td>\n",
       "      <td>1</td>\n",
       "    </tr>\n",
       "    <tr>\n",
       "      <th>54</th>\n",
       "      <td>6.5</td>\n",
       "      <td>2.8</td>\n",
       "      <td>4.6</td>\n",
       "      <td>1.5</td>\n",
       "      <td>1</td>\n",
       "    </tr>\n",
       "    <tr>\n",
       "      <th>...</th>\n",
       "      <td>...</td>\n",
       "      <td>...</td>\n",
       "      <td>...</td>\n",
       "      <td>...</td>\n",
       "      <td>...</td>\n",
       "    </tr>\n",
       "    <tr>\n",
       "      <th>145</th>\n",
       "      <td>6.7</td>\n",
       "      <td>3.0</td>\n",
       "      <td>5.2</td>\n",
       "      <td>2.3</td>\n",
       "      <td>2</td>\n",
       "    </tr>\n",
       "    <tr>\n",
       "      <th>146</th>\n",
       "      <td>6.3</td>\n",
       "      <td>2.5</td>\n",
       "      <td>5.0</td>\n",
       "      <td>1.9</td>\n",
       "      <td>2</td>\n",
       "    </tr>\n",
       "    <tr>\n",
       "      <th>147</th>\n",
       "      <td>6.5</td>\n",
       "      <td>3.0</td>\n",
       "      <td>5.2</td>\n",
       "      <td>2.0</td>\n",
       "      <td>2</td>\n",
       "    </tr>\n",
       "    <tr>\n",
       "      <th>148</th>\n",
       "      <td>6.2</td>\n",
       "      <td>3.4</td>\n",
       "      <td>5.4</td>\n",
       "      <td>2.3</td>\n",
       "      <td>2</td>\n",
       "    </tr>\n",
       "    <tr>\n",
       "      <th>149</th>\n",
       "      <td>5.9</td>\n",
       "      <td>3.0</td>\n",
       "      <td>5.1</td>\n",
       "      <td>1.8</td>\n",
       "      <td>2</td>\n",
       "    </tr>\n",
       "  </tbody>\n",
       "</table>\n",
       "<p>100 rows × 5 columns</p>\n",
       "</div>"
      ],
      "text/plain": [
       "     sepal length (cm)  sepal width (cm)  petal length (cm)  petal width (cm)  \\\n",
       "50                 7.0               3.2                4.7               1.4   \n",
       "51                 6.4               3.2                4.5               1.5   \n",
       "52                 6.9               3.1                4.9               1.5   \n",
       "53                 5.5               2.3                4.0               1.3   \n",
       "54                 6.5               2.8                4.6               1.5   \n",
       "..                 ...               ...                ...               ...   \n",
       "145                6.7               3.0                5.2               2.3   \n",
       "146                6.3               2.5                5.0               1.9   \n",
       "147                6.5               3.0                5.2               2.0   \n",
       "148                6.2               3.4                5.4               2.3   \n",
       "149                5.9               3.0                5.1               1.8   \n",
       "\n",
       "     target  \n",
       "50        1  \n",
       "51        1  \n",
       "52        1  \n",
       "53        1  \n",
       "54        1  \n",
       "..      ...  \n",
       "145       2  \n",
       "146       2  \n",
       "147       2  \n",
       "148       2  \n",
       "149       2  \n",
       "\n",
       "[100 rows x 5 columns]"
      ]
     },
     "execution_count": 3,
     "metadata": {},
     "output_type": "execute_result"
    }
   ],
   "source": [
    "# Так как данные хорошо известны (3 класса по 50 строк), убираем первые 50 строк принадлежащие к классу Setosa\n",
    "iris = iris.loc[50:]\n",
    "iris"
   ]
  },
  {
   "cell_type": "code",
   "execution_count": 4,
   "id": "b42a2229",
   "metadata": {},
   "outputs": [],
   "source": [
    "y = iris['target'] -1\n",
    "X = iris.drop(['target'], axis =1)"
   ]
  },
  {
   "cell_type": "markdown",
   "id": "ebe85b48",
   "metadata": {},
   "source": [
    "### Реализовать самостоятельно логистическую регрессию"
   ]
  },
  {
   "cell_type": "code",
   "execution_count": 5,
   "id": "e6361a4c",
   "metadata": {},
   "outputs": [],
   "source": [
    "def prediction(pred):\n",
    "        if pred >= 0.5:\n",
    "            return 1\n",
    "        else:\n",
    "            return 0"
   ]
  },
  {
   "cell_type": "code",
   "execution_count": 6,
   "id": "9fcd60a5",
   "metadata": {},
   "outputs": [],
   "source": [
    "def my_prediction(params, X):\n",
    "    pred = params[0] + params[1] * X['sepal length (cm)'] + params[2] * X['sepal width (cm)'] + params[3] * X['petal length (cm)'] + params[4] * X['petal width (cm)']\n",
    "    return 1 / (1 + np.exp(-(pred)))"
   ]
  },
  {
   "cell_type": "markdown",
   "id": "5e316e13",
   "metadata": {},
   "source": [
    "### Обучить ее методом градиентного спуска"
   ]
  },
  {
   "cell_type": "code",
   "execution_count": 25,
   "id": "47b53cbb",
   "metadata": {},
   "outputs": [],
   "source": [
    "params = []\n",
    "params = np.random.normal(size=(5,))\n",
    "EPOCHS = 200\n",
    "LEARNING_RATE = 0.1"
   ]
  },
  {
   "cell_type": "code",
   "execution_count": 26,
   "id": "1ced2be9",
   "metadata": {},
   "outputs": [],
   "source": [
    "for _ in range(EPOCHS):\n",
    "    sigmoid = my_prediction(params, X)\n",
    "    params[0] -= LEARNING_RATE * np.sum(sigmoid - y) / len(sigmoid)\n",
    "    number = 1\n",
    "    for i in X:\n",
    "        params[number] -= LEARNING_RATE * np.sum((sigmoid - y) * X[i]) / len(sigmoid)\n",
    "        number += 1\n",
    "    predictions = my_prediction(params, X).apply(prediction)"
   ]
  },
  {
   "cell_type": "code",
   "execution_count": 27,
   "id": "5bbfff83",
   "metadata": {},
   "outputs": [
    {
     "data": {
      "text/plain": [
       "0.95"
      ]
     },
     "execution_count": 27,
     "metadata": {},
     "output_type": "execute_result"
    }
   ],
   "source": [
    "pred = my_prediction(params, X)\n",
    "new_pred = pred.apply(prediction)\n",
    "1 - np.sum(abs(new_pred - y)) / len(y)"
   ]
  },
  {
   "cell_type": "markdown",
   "id": "4550b16b",
   "metadata": {},
   "source": [
    "### Методом nesterov momentum"
   ]
  },
  {
   "cell_type": "code",
   "execution_count": 10,
   "id": "d928fdbf",
   "metadata": {},
   "outputs": [],
   "source": [
    "gamma = 0.9\n",
    "u_0 = new_u_0 = 0\n",
    "u = new_u = [0, 0, 0, 0, 0]"
   ]
  },
  {
   "cell_type": "code",
   "execution_count": 28,
   "id": "12a2a545",
   "metadata": {},
   "outputs": [],
   "source": [
    "for _ in range(EPOCHS):\n",
    "    sigmoid = my_prediction(params, X)\n",
    "    new_u_0 = u_0 * gamma + (1 - gamma) * LEARNING_RATE * np.sum(sigmoid - y) / len(sigmoid)\n",
    "    number = 0\n",
    "    for i in X:\n",
    "        new_u[number] = u[number] * gamma + (1 - gamma) * LEARNING_RATE * np.sum((sigmoid - y) * X[i])\n",
    "        number += 1\n",
    "    for i in range(len(params)):\n",
    "        if i == 0:\n",
    "            params[i] -= new_u_0\n",
    "        else:\n",
    "            params[i] -= new_u[i-1]\n",
    "    u_0 = new_u_0\n",
    "    u = new_u\n",
    "    predictions = my_prediction(params, X).apply(prediction)"
   ]
  },
  {
   "cell_type": "code",
   "execution_count": 29,
   "id": "05cbcd63",
   "metadata": {},
   "outputs": [
    {
     "data": {
      "text/plain": [
       "0.96"
      ]
     },
     "execution_count": 29,
     "metadata": {},
     "output_type": "execute_result"
    }
   ],
   "source": [
    "pred = my_prediction(params, X)\n",
    "new_pred = pred.apply(prediction)\n",
    "1 - np.sum(abs(new_pred - y)) / len(y)"
   ]
  },
  {
   "cell_type": "markdown",
   "id": "a7f9a92f",
   "metadata": {},
   "source": [
    "### Методом rmsprop"
   ]
  },
  {
   "cell_type": "code",
   "execution_count": 18,
   "id": "a064dc76",
   "metadata": {},
   "outputs": [],
   "source": [
    "eps = 0.000001\n",
    "grad_square = np.zeros(5)"
   ]
  },
  {
   "cell_type": "code",
   "execution_count": 30,
   "id": "55a06a09",
   "metadata": {},
   "outputs": [],
   "source": [
    "for _ in range(EPOCHS):\n",
    "    sigmoid = my_prediction(params, X)\n",
    "    grad_0 = np.sum((sigmoid - y)) / len(sigmoid)\n",
    "    grad_1 = np.dot((sigmoid - y), X) / len(sigmoid)\n",
    "    grad = np.hstack((np.array(grad_0), grad_1))\n",
    "    grad_square = gamma * grad_square + (1 - gamma)  * grad ** 2\n",
    "    params -= LEARNING_RATE * grad / np.sqrt(grad_square + eps)\n",
    "    predictions = my_prediction(params, X).apply(prediction)"
   ]
  },
  {
   "cell_type": "code",
   "execution_count": 31,
   "id": "52039ba0",
   "metadata": {},
   "outputs": [
    {
     "data": {
      "text/plain": [
       "0.97"
      ]
     },
     "execution_count": 31,
     "metadata": {},
     "output_type": "execute_result"
    }
   ],
   "source": [
    "pred = my_prediction(params, X)\n",
    "new_pred = pred.apply(prediction)\n",
    "1 - np.sum(abs(new_pred - y)) / len(y)"
   ]
  }
 ],
 "metadata": {
  "kernelspec": {
   "display_name": "Python 3",
   "language": "python",
   "name": "python3"
  },
  "language_info": {
   "codemirror_mode": {
    "name": "ipython",
    "version": 3
   },
   "file_extension": ".py",
   "mimetype": "text/x-python",
   "name": "python",
   "nbconvert_exporter": "python",
   "pygments_lexer": "ipython3",
   "version": "3.8.8"
  }
 },
 "nbformat": 4,
 "nbformat_minor": 5
}
